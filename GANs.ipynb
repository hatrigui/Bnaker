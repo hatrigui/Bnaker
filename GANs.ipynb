{
 "cells": [
  {
   "cell_type": "code",
   "execution_count": 8,
   "metadata": {},
   "outputs": [
    {
     "name": "stdout",
     "output_type": "stream",
     "text": [
      "Requirement already satisfied: ctgan in c:\\users\\la7tim\\appdata\\local\\programs\\python\\python311\\lib\\site-packages (0.10.2)\n",
      "Requirement already satisfied: tqdm<5,>=4.29 in c:\\users\\la7tim\\appdata\\local\\programs\\python\\python311\\lib\\site-packages (from ctgan) (4.67.1)\n",
      "Requirement already satisfied: rdt>=1.11.0 in c:\\users\\la7tim\\appdata\\local\\programs\\python\\python311\\lib\\site-packages (from ctgan) (1.13.1)\n",
      "Requirement already satisfied: numpy>=1.23.3 in c:\\users\\la7tim\\appdata\\local\\programs\\python\\python311\\lib\\site-packages (from ctgan) (1.25.0)\n",
      "Requirement already satisfied: pandas>=1.5.0 in c:\\users\\la7tim\\appdata\\local\\programs\\python\\python311\\lib\\site-packages (from ctgan) (2.1.3)\n",
      "Requirement already satisfied: torch>=2.0.0 in c:\\users\\la7tim\\appdata\\local\\programs\\python\\python311\\lib\\site-packages (from ctgan) (2.1.1)\n",
      "Requirement already satisfied: python-dateutil>=2.8.2 in c:\\users\\la7tim\\appdata\\local\\programs\\python\\python311\\lib\\site-packages (from pandas>=1.5.0->ctgan) (2.8.2)\n",
      "Requirement already satisfied: pytz>=2020.1 in c:\\users\\la7tim\\appdata\\local\\programs\\python\\python311\\lib\\site-packages (from pandas>=1.5.0->ctgan) (2023.3.post1)\n",
      "Requirement already satisfied: tzdata>=2022.1 in c:\\users\\la7tim\\appdata\\local\\programs\\python\\python311\\lib\\site-packages (from pandas>=1.5.0->ctgan) (2023.3)\n",
      "Requirement already satisfied: Faker>=17 in c:\\users\\la7tim\\appdata\\local\\programs\\python\\python311\\lib\\site-packages (from rdt>=1.11.0->ctgan) (33.1.0)\n",
      "Requirement already satisfied: scipy>=1.9.2 in c:\\users\\la7tim\\appdata\\local\\programs\\python\\python311\\lib\\site-packages (from rdt>=1.11.0->ctgan) (1.11.4)\n",
      "Requirement already satisfied: scikit-learn>=1.1.3 in c:\\users\\la7tim\\appdata\\local\\programs\\python\\python311\\lib\\site-packages (from rdt>=1.11.0->ctgan) (1.3.2)\n",
      "Requirement already satisfied: filelock in c:\\users\\la7tim\\appdata\\local\\programs\\python\\python311\\lib\\site-packages (from torch>=2.0.0->ctgan) (3.13.1)\n",
      "Requirement already satisfied: typing-extensions in c:\\users\\la7tim\\appdata\\local\\programs\\python\\python311\\lib\\site-packages (from torch>=2.0.0->ctgan) (4.8.0)\n",
      "Requirement already satisfied: sympy in c:\\users\\la7tim\\appdata\\local\\programs\\python\\python311\\lib\\site-packages (from torch>=2.0.0->ctgan) (1.13.1)\n",
      "Requirement already satisfied: networkx in c:\\users\\la7tim\\appdata\\local\\programs\\python\\python311\\lib\\site-packages (from torch>=2.0.0->ctgan) (3.2.1)\n",
      "Requirement already satisfied: jinja2 in c:\\users\\la7tim\\appdata\\local\\programs\\python\\python311\\lib\\site-packages (from torch>=2.0.0->ctgan) (3.1.2)\n",
      "Requirement already satisfied: fsspec in c:\\users\\la7tim\\appdata\\local\\programs\\python\\python311\\lib\\site-packages (from torch>=2.0.0->ctgan) (2023.10.0)\n",
      "Requirement already satisfied: colorama in c:\\users\\la7tim\\appdata\\local\\programs\\python\\python311\\lib\\site-packages (from tqdm<5,>=4.29->ctgan) (0.4.6)\n",
      "Requirement already satisfied: six>=1.5 in c:\\users\\la7tim\\appdata\\local\\programs\\python\\python311\\lib\\site-packages (from python-dateutil>=2.8.2->pandas>=1.5.0->ctgan) (1.16.0)\n",
      "Requirement already satisfied: joblib>=1.1.1 in c:\\users\\la7tim\\appdata\\local\\programs\\python\\python311\\lib\\site-packages (from scikit-learn>=1.1.3->rdt>=1.11.0->ctgan) (1.3.2)\n",
      "Requirement already satisfied: threadpoolctl>=2.0.0 in c:\\users\\la7tim\\appdata\\local\\programs\\python\\python311\\lib\\site-packages (from scikit-learn>=1.1.3->rdt>=1.11.0->ctgan) (3.2.0)\n",
      "Requirement already satisfied: MarkupSafe>=2.0 in c:\\users\\la7tim\\appdata\\local\\programs\\python\\python311\\lib\\site-packages (from jinja2->torch>=2.0.0->ctgan) (2.1.3)\n",
      "Requirement already satisfied: mpmath<1.4,>=1.1.0 in c:\\users\\la7tim\\appdata\\local\\programs\\python\\python311\\lib\\site-packages (from sympy->torch>=2.0.0->ctgan) (1.3.0)\n",
      "Note: you may need to restart the kernel to use updated packages.\n"
     ]
    },
    {
     "name": "stderr",
     "output_type": "stream",
     "text": [
      "\n",
      "[notice] A new release of pip is available: 24.2 -> 24.3.1\n",
      "[notice] To update, run: python.exe -m pip install --upgrade pip\n"
     ]
    }
   ],
   "source": [
    "pip install ctgan\n"
   ]
  },
  {
   "cell_type": "code",
   "execution_count": 10,
   "metadata": {},
   "outputs": [],
   "source": [
    "import pandas as pd\n",
    "from ctgan import CTGAN\n",
    "import matplotlib.pyplot as plt\n",
    "import seaborn as sns\n",
    "\n",
    "# Load your original data\n",
    "original_data = pd.read_csv(r'C:\\Users\\la7tim\\Desktop\\ENIT\\3ATELDASEC\\Big Data\\loan_data.csv')\n",
    "data = original_data.copy()\n"
   ]
  },
  {
   "cell_type": "code",
   "execution_count": 11,
   "metadata": {},
   "outputs": [],
   "source": [
    "# List of categorical columns\n",
    "categorical_columns = [\n",
    "    'person_gender',\n",
    "    'person_education',\n",
    "    'person_home_ownership',\n",
    "    'loan_intent',\n",
    "    'previous_loan_defaults_on_file'\n",
    "]\n",
    "\n",
    "# Drop rows with missing values (if any)\n",
    "data = data.dropna()\n",
    "\n",
    "# Optional: Reset index after dropping rows\n",
    "data.reset_index(drop=True, inplace=True)\n"
   ]
  },
  {
   "cell_type": "code",
   "execution_count": 12,
   "metadata": {},
   "outputs": [],
   "source": [
    "# Initialize the CTGAN model\n",
    "model = CTGAN(\n",
    "    epochs=300,        # Number of training epochs\n",
    "    batch_size=500,    # Size of each batch\n",
    "    verbose=True       # Print training progress\n",
    ")\n"
   ]
  },
  {
   "cell_type": "code",
   "execution_count": 13,
   "metadata": {},
   "outputs": [
    {
     "name": "stderr",
     "output_type": "stream",
     "text": [
      "c:\\Users\\la7tim\\AppData\\Local\\Programs\\Python\\Python311\\Lib\\site-packages\\tqdm\\auto.py:21: TqdmWarning: IProgress not found. Please update jupyter and ipywidgets. See https://ipywidgets.readthedocs.io/en/stable/user_install.html\n",
      "  from .autonotebook import tqdm as notebook_tqdm\n",
      "Gen. (-0.98) | Discrim. (-0.03): 100%|██████████| 300/300 [40:52<00:00,  8.17s/it]\n"
     ]
    }
   ],
   "source": [
    "# Fit the model to your data\n",
    "model.fit(data, discrete_columns=categorical_columns)\n"
   ]
  },
  {
   "cell_type": "code",
   "execution_count": 14,
   "metadata": {},
   "outputs": [],
   "source": [
    "# Generate synthetic data\n",
    "num_samples = 10000  # You can change this number as needed\n",
    "synthetic_data = model.sample(num_samples)\n"
   ]
  },
  {
   "cell_type": "code",
   "execution_count": 17,
   "metadata": {},
   "outputs": [
    {
     "data": {
      "text/plain": [
       "'C:\\\\Users\\\\la7tim\\\\Desktop\\\\ganz.csv'"
      ]
     },
     "execution_count": 17,
     "metadata": {},
     "output_type": "execute_result"
    }
   ],
   "source": [
    "synthetic_data_path = \"C:\\\\Users\\\\la7tim\\\\Desktop\\\\ganz.csv\"\n",
    "synthetic_data.to_csv(synthetic_data_path, index=False)\n",
    "\n",
    "synthetic_data_path"
   ]
  }
 ],
 "metadata": {
  "kernelspec": {
   "display_name": "Python 3",
   "language": "python",
   "name": "python3"
  },
  "language_info": {
   "codemirror_mode": {
    "name": "ipython",
    "version": 3
   },
   "file_extension": ".py",
   "mimetype": "text/x-python",
   "name": "python",
   "nbconvert_exporter": "python",
   "pygments_lexer": "ipython3",
   "version": "3.11.4"
  }
 },
 "nbformat": 4,
 "nbformat_minor": 2
}
